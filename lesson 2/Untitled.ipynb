{
 "cells": [
  {
   "cell_type": "code",
   "execution_count": 15,
   "metadata": {},
   "outputs": [
    {
     "name": "stdout",
     "output_type": "stream",
     "text": [
      "Введите ширину:45\n",
      "Введите длину:210\n",
      "Введите высоту:15\n"
     ]
    }
   ],
   "source": [
    "w = int(input('Введите ширину:'))\n",
    "l = int(input('Введите длину:'))\n",
    "h = int(input('Введите высоту:'))\n"
   ]
  },
  {
   "cell_type": "code",
   "execution_count": 18,
   "metadata": {},
   "outputs": [
    {
     "name": "stdout",
     "output_type": "stream",
     "text": [
      "ищите коробку для лыж\n"
     ]
    }
   ],
   "source": [
    "if w and l and h < 15:\n",
    "    print('коробка №1')\n",
    "elif l > 120:\n",
    "    print('ищите коробку для лыж')\n",
    "elif 15<w<50 or 15<l<50 or 15<h<50:\n",
    "    print('коробка №2')\n",
    "\n",
    "else:\n",
    "    print('Стандартная коробка №3')\n",
    "    "
   ]
  }
 ],
 "metadata": {
  "kernelspec": {
   "display_name": "Python 3",
   "language": "python",
   "name": "python3"
  },
  "language_info": {
   "codemirror_mode": {
    "name": "ipython",
    "version": 3
   },
   "file_extension": ".py",
   "mimetype": "text/x-python",
   "name": "python",
   "nbconvert_exporter": "python",
   "pygments_lexer": "ipython3",
   "version": "3.8.5"
  }
 },
 "nbformat": 4,
 "nbformat_minor": 4
}
